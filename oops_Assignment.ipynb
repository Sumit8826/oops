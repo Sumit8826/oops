{
  "nbformat": 4,
  "nbformat_minor": 0,
  "metadata": {
    "colab": {
      "provenance": []
    },
    "kernelspec": {
      "name": "python3",
      "display_name": "Python 3"
    },
    "language_info": {
      "name": "python"
    }
  },
  "cells": [
    {
      "cell_type": "markdown",
      "source": [
        "**Python OOPs Theory Questions**"
      ],
      "metadata": {
        "id": "ttHLknNgISgD"
      }
    },
    {
      "cell_type": "markdown",
      "source": [
        "Q1. What is Object-Oriented Programming (OOP)?"
      ],
      "metadata": {
        "id": "dOKaJaxCIOI1"
      }
    },
    {
      "cell_type": "markdown",
      "source": [
        "Ans. OOP is a programming paradigm based on objects, which contain both data (attributes) and behaviors (methods). It enables modular, reusable, and scalable code."
      ],
      "metadata": {
        "id": "6o9yWGjwJfWA"
      }
    },
    {
      "cell_type": "markdown",
      "source": [
        "Q2. What is a class in OOP?"
      ],
      "metadata": {
        "id": "_LsixCo7Jkf7"
      }
    },
    {
      "cell_type": "markdown",
      "source": [
        "Ans. A class is a blueprint for creating objects. It defines attributes and methods that the objects will have."
      ],
      "metadata": {
        "id": "FkO4PmkHJrVZ"
      }
    },
    {
      "cell_type": "markdown",
      "source": [
        "Q3. What is an object in OOP?"
      ],
      "metadata": {
        "id": "1ZElfIlkJ0g4"
      }
    },
    {
      "cell_type": "markdown",
      "source": [
        "Ans. An object is an instance of a class. It has its own state (attributes) and behavior (methods)."
      ],
      "metadata": {
        "id": "KIOrvxPFJ8Tz"
      }
    },
    {
      "cell_type": "markdown",
      "source": [
        "Q4. What is the difference between abstraction and encapsulation?"
      ],
      "metadata": {
        "id": "3TmFt2CaKHdk"
      }
    },
    {
      "cell_type": "markdown",
      "source": [
        "* Abstraction hides implementation details and only shows relevant information to the user.\n",
        "* Encapsulation restricts direct access to object data, allowing modification\n",
        "only through defined methods."
      ],
      "metadata": {
        "id": "5FUdZNL4KL_o"
      }
    },
    {
      "cell_type": "markdown",
      "source": [
        "Q5.  What are dunder methods in Python?"
      ],
      "metadata": {
        "id": "okBH2hn2LBZg"
      }
    },
    {
      "cell_type": "markdown",
      "source": [
        "Ans. Dunder (double underscore) methods, such as __init__, __str__, and __repr__, are special methods that allow operator overloading and customization of object behavior."
      ],
      "metadata": {
        "id": "5XpaW5EeLFlt"
      }
    },
    {
      "cell_type": "markdown",
      "source": [
        "Q6.  Explain the concept of inheritance in OOP."
      ],
      "metadata": {
        "id": "SB5wx-GwLN1S"
      }
    },
    {
      "cell_type": "markdown",
      "source": [
        "Ans. Inheritance allows a class (child) to derive properties and behaviors from another class (parent), promoting code reuse."
      ],
      "metadata": {
        "id": "PREw5EnsLVHp"
      }
    },
    {
      "cell_type": "markdown",
      "source": [
        "Q7. What is polymorphism in OOP?"
      ],
      "metadata": {
        "id": "zWAxAjtYLayr"
      }
    },
    {
      "cell_type": "markdown",
      "source": [
        "Ans. Polymorphism allows methods to have the same name but behave differently in different classes."
      ],
      "metadata": {
        "id": "2L3c7NrgLwHb"
      }
    },
    {
      "cell_type": "markdown",
      "source": [
        "Q8. How is encapsulation achieved in Python?"
      ],
      "metadata": {
        "id": "TrF0gbYzMhe7"
      }
    },
    {
      "cell_type": "markdown",
      "source": [
        "Ans. Using private (__var), protected (_var), and public attributes, along with getter and setter methods."
      ],
      "metadata": {
        "id": "KZH7lZp1MpJi"
      }
    },
    {
      "cell_type": "markdown",
      "source": [
        "Q9. What is a constructor in Python?"
      ],
      "metadata": {
        "id": "i9Rbeh0RMu-9"
      }
    },
    {
      "cell_type": "markdown",
      "source": [
        "Ans. A constructor (__init__ method) initializes an object's attributes when an instance of a class is created."
      ],
      "metadata": {
        "id": "l7YTkQMRM2Aa"
      }
    },
    {
      "cell_type": "markdown",
      "source": [
        "Q10. What are class and static methods in Python?"
      ],
      "metadata": {
        "id": "4GzlUesTM6_H"
      }
    },
    {
      "cell_type": "markdown",
      "source": [
        "Ans. Class methods (@classmethod) operate on class-level data, while static methods (@staticmethod) do not depend on class or instance variables."
      ],
      "metadata": {
        "id": "kzZj6MSLND45"
      }
    },
    {
      "cell_type": "markdown",
      "source": [
        "Q11.  What is method overloading in Python?"
      ],
      "metadata": {
        "id": "LrpZUjR-NMBc"
      }
    },
    {
      "cell_type": "markdown",
      "source": [
        "Ans. Python does not support true method overloading but can achieve similar functionality using default parameters or *args."
      ],
      "metadata": {
        "id": "4urMg2lsNTpt"
      }
    },
    {
      "cell_type": "markdown",
      "source": [
        "Q12. What is method overriding in OOP?"
      ],
      "metadata": {
        "id": "9e8oyc_PNaRY"
      }
    },
    {
      "cell_type": "markdown",
      "source": [
        "Ans. Method overriding occurs when a subclass provides a specific implementation of a method inherited from its superclass."
      ],
      "metadata": {
        "id": "awjyt7evNind"
      }
    },
    {
      "cell_type": "markdown",
      "source": [
        "Q13. What is a property decorator in Python?"
      ],
      "metadata": {
        "id": "iNT3W7gDNma9"
      }
    },
    {
      "cell_type": "markdown",
      "source": [
        "Ans. The @property decorator allows a method to be accessed as an attribute."
      ],
      "metadata": {
        "id": "8OdoYuYQNrQ2"
      }
    },
    {
      "cell_type": "markdown",
      "source": [
        "Q14. Why is polymorphism important in OOP?"
      ],
      "metadata": {
        "id": "3BS9AbIiNxqt"
      }
    },
    {
      "cell_type": "markdown",
      "source": [
        "Ans. It enhances code flexibility and reusability by allowing multiple classes to share the same method names."
      ],
      "metadata": {
        "id": "jv6cE-rnN2Pa"
      }
    },
    {
      "cell_type": "markdown",
      "source": [
        "Q15. What is an abstract class in Python?"
      ],
      "metadata": {
        "id": "oQD1Z7y_N8uE"
      }
    },
    {
      "cell_type": "markdown",
      "source": [
        "Ans. An abstract class (using ABC from abc module) cannot be instantiated and must have at least one abstract method."
      ],
      "metadata": {
        "id": "QIibi1XgOBSa"
      }
    },
    {
      "cell_type": "markdown",
      "source": [
        "Q16. What are the advantages of OOP?"
      ],
      "metadata": {
        "id": "7TYIJq4KOMUI"
      }
    },
    {
      "cell_type": "markdown",
      "source": [
        "Ans. Code reusability, modularity, scalability, maintainability, and security."
      ],
      "metadata": {
        "id": "OzJAtyFmORbp"
      }
    },
    {
      "cell_type": "markdown",
      "source": [
        "Q17. What is the difference between a class variable and an instance variable?"
      ],
      "metadata": {
        "id": "TGc4o4GzOWaK"
      }
    },
    {
      "cell_type": "markdown",
      "source": [
        "Ans. A class variable is shared among all instances, while an instance variable is unique to each object."
      ],
      "metadata": {
        "id": "UY9t5Du0OfkX"
      }
    },
    {
      "cell_type": "markdown",
      "source": [
        "Q18. What is multiple inheritance in Python?"
      ],
      "metadata": {
        "id": "ad68d7a6Ol-f"
      }
    },
    {
      "cell_type": "markdown",
      "source": [
        "Ans. A class inherits from more than one parent class."
      ],
      "metadata": {
        "id": "7cd5OqerOsIr"
      }
    },
    {
      "cell_type": "markdown",
      "source": [
        "Q19. Explain the purpose of ‘’__str__’ and ‘__repr__’ ‘ methods in Python."
      ],
      "metadata": {
        "id": "cp1uUX1zOzRO"
      }
    },
    {
      "cell_type": "markdown",
      "source": [
        "* __str__: Defines a human-readable string representation of an object.\n",
        "* __repr__: Provides an official string representation useful for debugging."
      ],
      "metadata": {
        "id": "59no1tTkO6sf"
      }
    },
    {
      "cell_type": "markdown",
      "source": [
        "Q20.  What is the significance of the ‘super()’ function in Python?"
      ],
      "metadata": {
        "id": "w7jmiugkPJbf"
      }
    },
    {
      "cell_type": "markdown",
      "source": [
        "Ans. It allows a subclass to access methods of its parent class."
      ],
      "metadata": {
        "id": "Wu-BKcsgPO6K"
      }
    },
    {
      "cell_type": "markdown",
      "source": [
        "Q21. What is the significance of the __del__ method in Python?"
      ],
      "metadata": {
        "id": "CxMjsPnRPWDs"
      }
    },
    {
      "cell_type": "markdown",
      "source": [
        "Ans. It is the destructor method that is called when an object is deleted."
      ],
      "metadata": {
        "id": "__BiZZoaPbhL"
      }
    },
    {
      "cell_type": "markdown",
      "source": [
        "Q22. What is the difference between @staticmethod and @classmethod in Python?"
      ],
      "metadata": {
        "id": "eyn2F9XZPiTR"
      }
    },
    {
      "cell_type": "markdown",
      "source": [
        "* @staticmethod: No access to cls or self, acts as a regular function inside a class.\n",
        "* @classmethod: Takes cls as the first argument and works with class variables."
      ],
      "metadata": {
        "id": "IqSoMc0TPm_A"
      }
    },
    {
      "cell_type": "markdown",
      "source": [
        "Q23.  How does polymorphism work in Python with inheritance?"
      ],
      "metadata": {
        "id": "9XMZwAMGPvda"
      }
    },
    {
      "cell_type": "markdown",
      "source": [
        "Ans. A method in a subclass overrides the method in the superclass, allowing dynamic method dispatch."
      ],
      "metadata": {
        "id": "l_bzUlk6Pz61"
      }
    },
    {
      "cell_type": "markdown",
      "source": [
        "Q24. What is method chaining in Python OOP?"
      ],
      "metadata": {
        "id": "3gXxl7mxP5Ew"
      }
    },
    {
      "cell_type": "markdown",
      "source": [
        "Ans. It allows multiple method calls on the same object in a single statement by returning self."
      ],
      "metadata": {
        "id": "mXixgBJ1P9Z0"
      }
    },
    {
      "cell_type": "markdown",
      "source": [
        "Q25. What is the purpose of the __call__ method in Python?"
      ],
      "metadata": {
        "id": "QMLFMPb9QKJr"
      }
    },
    {
      "cell_type": "markdown",
      "source": [
        "Ans. It allows an instance of a class to be called as a function."
      ],
      "metadata": {
        "id": "AHZZ9f_yQSrj"
      }
    },
    {
      "cell_type": "markdown",
      "source": [
        "**Practical Questions**"
      ],
      "metadata": {
        "id": "wqo4wNI0QphJ"
      }
    },
    {
      "cell_type": "markdown",
      "source": [
        "Q1. Create a parent class Animal with a method speak() that prints a generic message. Create a child class Dog\n",
        "that overrides the speak() method to print \"Bark!\"."
      ],
      "metadata": {
        "id": "rYTMAauNQz0f"
      }
    },
    {
      "cell_type": "code",
      "source": [
        "class Animal:\n",
        "    def speak(self):\n",
        "        print(\"Animal makes a sound\")\n",
        "\n",
        "class Dog(Animal):\n",
        "    def speak(self):\n",
        "        print(\"Bark!\")\n",
        "\n",
        "a = Animal()\n",
        "d = Dog()\n",
        "\n",
        "a.speak()\n",
        "d.speak()\n"
      ],
      "metadata": {
        "colab": {
          "base_uri": "https://localhost:8080/"
        },
        "id": "xYKPHeiCSCJ0",
        "outputId": "bf526787-f9d6-440b-cf1c-6574b73ed7c6"
      },
      "execution_count": null,
      "outputs": [
        {
          "output_type": "stream",
          "name": "stdout",
          "text": [
            "Animal makes a sound\n",
            "Bark!\n"
          ]
        }
      ]
    },
    {
      "cell_type": "markdown",
      "source": [
        "Q2.  Write a program to create an abstract class Shape with a method area(). Derive classes Circle and Rectangle\n",
        "from it and implement the area() method in both."
      ],
      "metadata": {
        "id": "NK5rQRLeSwxI"
      }
    },
    {
      "cell_type": "code",
      "source": [
        "from abc import ABC, abstractmethod\n",
        "class Shape(ABC):\n",
        "    @abstractmethod\n",
        "    def area(self):\n",
        "        pass\n",
        "\n",
        "class Circle(Shape):\n",
        "    def __init__(self, radius):\n",
        "        self.radius = radius\n",
        "\n",
        "    def area(self):\n",
        "        return 3.14 * self.radius ** 2\n",
        "\n",
        "class Rectangle(Shape):\n",
        "    def __init__(self, width, height):\n",
        "        self.width = width\n",
        "        self.height = height\n",
        "\n",
        "    def area(self):\n",
        "        return self.width * self.height\n",
        "\n",
        "c = Circle(5)\n",
        "r = Rectangle(4, 6)\n",
        "\n",
        "print(f\"Circle Area: {c.area()}\")\n",
        "print(f\"Rectangle Area: {r.area()}\")\n"
      ],
      "metadata": {
        "colab": {
          "base_uri": "https://localhost:8080/"
        },
        "id": "JHT3xn_sS8zp",
        "outputId": "904921e3-1b28-4ebe-d747-501bb297378b"
      },
      "execution_count": null,
      "outputs": [
        {
          "output_type": "stream",
          "name": "stdout",
          "text": [
            "Circle Area: 78.5\n",
            "Rectangle Area: 24\n"
          ]
        }
      ]
    },
    {
      "cell_type": "markdown",
      "source": [
        "Q3.  Implement a multi-level inheritance scenario where a class Vehicle has an attribute type. Derive a class Car\n",
        "and further derive a class ElectricCar that adds a battery attribute"
      ],
      "metadata": {
        "id": "qEDqT6C7Tgz-"
      }
    },
    {
      "cell_type": "code",
      "source": [
        "class Vehicle:\n",
        "    def __init__(self, type):\n",
        "        self.type = type\n",
        "\n",
        "    def show_type(self):\n",
        "        print(f\"Vehicle Type: {self.type}\")\n",
        "\n",
        "class Car(Vehicle):\n",
        "    def __init__(self, type, brand):\n",
        "        super().__init__(type)\n",
        "        self.brand = brand\n",
        "    def show_brand(self):\n",
        "        print(f\"Car Brand: {self.brand}\")\n",
        "\n",
        "class ElectricCar(Car):\n",
        "    def __init__(self, type, brand, battery):\n",
        "        super().__init__(type, brand)\n",
        "        self.battery = battery\n",
        "\n",
        "    def show_battery(self):\n",
        "        print(f\"Battery Capacity: {self.battery} kWh\")\n",
        "\n",
        "e_car = ElectricCar(\"Sedan\", \"Tesla\", 75)\n",
        "\n",
        "e_car.show_type()\n",
        "e_car.show_brand()\n",
        "e_car.show_battery()\n"
      ],
      "metadata": {
        "colab": {
          "base_uri": "https://localhost:8080/"
        },
        "id": "28nB_PsHToZj",
        "outputId": "700e384b-76a3-4f3d-d0cb-1433b538706b"
      },
      "execution_count": null,
      "outputs": [
        {
          "output_type": "stream",
          "name": "stdout",
          "text": [
            "Vehicle Type: Sedan\n",
            "Car Brand: Tesla\n",
            "Battery Capacity: 75 kWh\n"
          ]
        }
      ]
    },
    {
      "cell_type": "markdown",
      "source": [
        "Q4. Demonstrate polymorphism by creating a base class Bird with a method fly(). Create two derived classes\n",
        "Sparrow and Penguin that override the fly() method."
      ],
      "metadata": {
        "id": "4KLOyXKgUSVo"
      }
    },
    {
      "cell_type": "code",
      "source": [
        "class Bird:\n",
        "    def fly(self):\n",
        "        print(\"Some birds can fly.\")\n",
        "\n",
        "class Sparrow(Bird):\n",
        "    def fly(self):\n",
        "        print(\"Sparrow flies high!\")\n",
        "\n",
        "class Penguin(Bird):\n",
        "    def fly(self):\n",
        "        print(\"Penguins cannot fly.\")\n",
        "\n",
        "birds = [Sparrow(), Penguin(), Bird()]\n",
        "\n",
        "for bird in birds:\n",
        "    bird.fly()\n"
      ],
      "metadata": {
        "colab": {
          "base_uri": "https://localhost:8080/"
        },
        "id": "yhyL5y7iUZRC",
        "outputId": "5f0889bf-3e7b-4bf8-980a-e5ef1ddc1a9d"
      },
      "execution_count": null,
      "outputs": [
        {
          "output_type": "stream",
          "name": "stdout",
          "text": [
            "Sparrow flies high!\n",
            "Penguins cannot fly.\n",
            "Some birds can fly.\n"
          ]
        }
      ]
    },
    {
      "cell_type": "markdown",
      "source": [
        "Q5.  Write a program to demonstrate encapsulation by creating a class BankAccount with private attributes\n",
        "balance and methods to deposit, withdraw, and check balance"
      ],
      "metadata": {
        "id": "6Z2u96NIUtdw"
      }
    },
    {
      "cell_type": "code",
      "source": [
        "class BankAccount:\n",
        "    def __init__(self, initial_balance):\n",
        "        self.__balance = initial_balance\n",
        "\n",
        "    def deposit(self, amount):\n",
        "        if amount > 0:\n",
        "            self.__balance += amount\n",
        "            print(f\"Deposited: ${amount}\")\n",
        "        else:\n",
        "            print(\"Deposit amount must be positive.\")\n",
        "\n",
        "    def withdraw(self, amount):\n",
        "        if 0 < amount <= self.__balance:\n",
        "            self.__balance -= amount\n",
        "            print(f\"Withdrawn: ${amount}\")\n",
        "        else:\n",
        "            print(\"Insufficient funds or invalid amount.\")\n",
        "\n",
        "    def get_balance(self):\n",
        "        return self.__balance\n",
        "\n",
        "account = BankAccount(1000)\n",
        "\n",
        "account.deposit(500)\n",
        "account.withdraw(300)\n",
        "print(\"Current Balance:\", account.get_balance())\n"
      ],
      "metadata": {
        "colab": {
          "base_uri": "https://localhost:8080/"
        },
        "id": "LxnlIVxHVAPi",
        "outputId": "a3ae55e9-ace0-4149-8552-ca8e3985e5ed"
      },
      "execution_count": null,
      "outputs": [
        {
          "output_type": "stream",
          "name": "stdout",
          "text": [
            "Deposited: $500\n",
            "Withdrawn: $300\n",
            "Current Balance: 1200\n"
          ]
        }
      ]
    },
    {
      "cell_type": "markdown",
      "source": [
        "Q6. Demonstrate runtime polymorphism using a method play() in a base class Instrument. Derive classes Guitar\n",
        "and Piano that implement their own version of play()"
      ],
      "metadata": {
        "id": "_PEyiKGxVdic"
      }
    },
    {
      "cell_type": "code",
      "source": [
        "class Instrument:\n",
        "    def play(self):\n",
        "        print(\"Playing an instrument.\")\n",
        "\n",
        "class Guitar(Instrument):\n",
        "    def play(self):\n",
        "        print(\"Strumming the guitar.\")\n",
        "\n",
        "class Piano(Instrument):\n",
        "    def play(self):\n",
        "        print(\"Playing the piano keys.\")\n",
        "\n",
        "instruments = [Guitar(), Piano(), Instrument()]\n",
        "\n",
        "for instrument in instruments:\n",
        "    instrument.play()\n"
      ],
      "metadata": {
        "colab": {
          "base_uri": "https://localhost:8080/"
        },
        "id": "0kuOOy78VikP",
        "outputId": "b4ae49ec-a6ff-4e74-f2fb-768e2c01c3ab"
      },
      "execution_count": null,
      "outputs": [
        {
          "output_type": "stream",
          "name": "stdout",
          "text": [
            "Strumming the guitar.\n",
            "Playing the piano keys.\n",
            "Playing an instrument.\n"
          ]
        }
      ]
    },
    {
      "cell_type": "markdown",
      "source": [
        "Q7. Create a class MathOperations with a class method add_numbers() to add two numbers and a static\n",
        "method subtract_numbers() to subtract two numbers."
      ],
      "metadata": {
        "id": "OWBYTld7V3LB"
      }
    },
    {
      "cell_type": "code",
      "source": [
        "class MathOperations:\n",
        "    @classmethod\n",
        "    def add_numbers(cls, a, b):\n",
        "        return a + b\n",
        "\n",
        "    @staticmethod\n",
        "    def subtract_numbers(a, b):\n",
        "        return a - b\n",
        "\n",
        "print(\"Addition:\", MathOperations.add_numbers(10, 5))\n",
        "print(\"Subtraction:\", MathOperations.subtract_numbers(10, 5))\n"
      ],
      "metadata": {
        "colab": {
          "base_uri": "https://localhost:8080/"
        },
        "id": "M_6OIzGJV-Sp",
        "outputId": "0309019f-e640-479b-cf5d-a511a48d366d"
      },
      "execution_count": null,
      "outputs": [
        {
          "output_type": "stream",
          "name": "stdout",
          "text": [
            "Addition: 15\n",
            "Subtraction: 5\n"
          ]
        }
      ]
    },
    {
      "cell_type": "markdown",
      "source": [
        "Q8. Implement a class Person with a class method to count the total number of persons created."
      ],
      "metadata": {
        "id": "SE0H4idnWNts"
      }
    },
    {
      "cell_type": "code",
      "source": [
        "class Person:\n",
        "    count = 0\n",
        "\n",
        "    def __init__(self, name):\n",
        "        self.name = name\n",
        "        Person.count += 1\n",
        "\n",
        "    @classmethod\n",
        "    def total_persons(cls):\n",
        "        return cls.count\n",
        "\n",
        "p1 = Person(\"Alice\")\n",
        "p2 = Person(\"Bob\")\n",
        "p3 = Person(\"Charlie\")\n",
        "\n",
        "print(\"Total Persons Created:\", Person.total_persons())\n"
      ],
      "metadata": {
        "colab": {
          "base_uri": "https://localhost:8080/"
        },
        "id": "5m86Qw9cWUXG",
        "outputId": "dab77779-0a6d-4102-a486-2483f2d0ab80"
      },
      "execution_count": null,
      "outputs": [
        {
          "output_type": "stream",
          "name": "stdout",
          "text": [
            "Total Persons Created: 3\n"
          ]
        }
      ]
    },
    {
      "cell_type": "markdown",
      "source": [
        "Q9. Write a class Fraction with attributes numerator and denominator. Override the str method to display the\n",
        "fraction as \"numerator/denominator\"."
      ],
      "metadata": {
        "id": "6O6_dsANWnLS"
      }
    },
    {
      "cell_type": "code",
      "source": [
        "class Fraction:\n",
        "    def __init__(self, numerator, denominator):\n",
        "        self.numerator = numerator\n",
        "        self.denominator = denominator\n",
        "\n",
        "    def __str__(self):\n",
        "        return f\"{self.numerator}/{self.denominator}\"\n",
        "\n",
        "f1 = Fraction(3, 5)\n",
        "f2 = Fraction(7, 2)\n",
        "\n",
        "print(f1)\n",
        "print(f2)\n"
      ],
      "metadata": {
        "colab": {
          "base_uri": "https://localhost:8080/"
        },
        "id": "f13K2bo-Wr9M",
        "outputId": "68f31134-86db-4925-dd6b-b9f0ec575f44"
      },
      "execution_count": null,
      "outputs": [
        {
          "output_type": "stream",
          "name": "stdout",
          "text": [
            "3/5\n",
            "7/2\n"
          ]
        }
      ]
    },
    {
      "cell_type": "markdown",
      "source": [
        "Q10. Demonstrate operator overloading by creating a class Vector and overriding the add method to add two\n",
        "vectors."
      ],
      "metadata": {
        "id": "3xMC_FtzW7dJ"
      }
    },
    {
      "cell_type": "code",
      "source": [
        "class Vector:\n",
        "    def __init__(self, x, y):\n",
        "        self.x = x\n",
        "        self.y = y\n",
        "\n",
        "    def __add__(self, other):\n",
        "        return Vector(self.x + other.x, self.y + other.y)\n",
        "\n",
        "    def __str__(self):\n",
        "        return f\"({self.x}, {self.y})\"\n",
        "\n",
        "v1 = Vector(2, 3)\n",
        "v2 = Vector(4, 5)\n",
        "v3 = v1 + v2\n",
        "\n",
        "print(\"Vector 1:\", v1)\n",
        "print(\"Vector 2:\", v2)\n",
        "print(\"Sum of Vectors:\", v3)\n"
      ],
      "metadata": {
        "colab": {
          "base_uri": "https://localhost:8080/"
        },
        "id": "zbxcn5pQXMjz",
        "outputId": "b51ec5ac-6fa8-4192-9b16-eab26168f824"
      },
      "execution_count": null,
      "outputs": [
        {
          "output_type": "stream",
          "name": "stdout",
          "text": [
            "Vector 1: (2, 3)\n",
            "Vector 2: (4, 5)\n",
            "Sum of Vectors: (6, 8)\n"
          ]
        }
      ]
    },
    {
      "cell_type": "markdown",
      "source": [
        "Q11.  Create a class Person with attributes name and age. Add a method greet() that prints \"Hello, my name is\n",
        "{name} and I am {age} years old.\""
      ],
      "metadata": {
        "id": "fgcH22gVXf6q"
      }
    },
    {
      "cell_type": "code",
      "source": [
        "class Person:\n",
        "    def __init__(self, name, age):\n",
        "        self.name = name\n",
        "        self.age = age\n",
        "\n",
        "    def greet(self):\n",
        "        print(f\"Hello, my name is {self.name} and I am {self.age} years old.\")\n",
        "\n",
        "p1 = Person(\"Alice\", 25)\n",
        "p2 = Person(\"Bob\", 30)\n",
        "\n",
        "p1.greet()\n",
        "p2.greet()\n"
      ],
      "metadata": {
        "colab": {
          "base_uri": "https://localhost:8080/"
        },
        "id": "CkFkmLyAXlCL",
        "outputId": "6f3933a4-ac73-4b38-d019-374621ac3915"
      },
      "execution_count": null,
      "outputs": [
        {
          "output_type": "stream",
          "name": "stdout",
          "text": [
            "Hello, my name is Alice and I am 25 years old.\n",
            "Hello, my name is Bob and I am 30 years old.\n"
          ]
        }
      ]
    },
    {
      "cell_type": "markdown",
      "source": [
        "Q12.  Implement a class Student with attributes name and grades. Create a method average_grade() to compute\n",
        "the average of the grades."
      ],
      "metadata": {
        "id": "UQ8f__CWX08K"
      }
    },
    {
      "cell_type": "code",
      "source": [
        "class Student:\n",
        "    def __init__(self, name, grades):\n",
        "        self.name = name\n",
        "        self.grades = grades\n",
        "\n",
        "    def average_grade(self):\n",
        "        return sum(self.grades) / len(self.grades) if self.grades else 0\n",
        "\n",
        "s1 = Student(\"Alice\", [85, 90, 78])\n",
        "s2 = Student(\"Bob\", [92, 88, 95, 100])\n",
        "\n",
        "print(f\"{s1.name}'s Average Grade: {s1.average_grade():.2f}\")\n",
        "print(f\"{s2.name}'s Average Grade: {s2.average_grade():.2f}\")\n"
      ],
      "metadata": {
        "colab": {
          "base_uri": "https://localhost:8080/"
        },
        "id": "DTEvIHuqX5Ys",
        "outputId": "c29b71b2-ea6d-4118-eacf-a5e6acfd0ad2"
      },
      "execution_count": null,
      "outputs": [
        {
          "output_type": "stream",
          "name": "stdout",
          "text": [
            "Alice's Average Grade: 84.33\n",
            "Bob's Average Grade: 93.75\n"
          ]
        }
      ]
    },
    {
      "cell_type": "markdown",
      "source": [
        "Q13.  Create a class Rectangle with methods set_dimensions() to set the dimensions and area() to calculate the\n",
        "area."
      ],
      "metadata": {
        "id": "5E13XflbYNHO"
      }
    },
    {
      "cell_type": "code",
      "source": [
        "class Rectangle:\n",
        "    def __init__(self):\n",
        "        self.width = 0\n",
        "        self.height = 0\n",
        "\n",
        "    def set_dimensions(self, width, height):\n",
        "        self.width = width\n",
        "        self.height = height\n",
        "\n",
        "    def area(self):\n",
        "        return self.width * self.height\n",
        "\n",
        "rect = Rectangle()\n",
        "rect.set_dimensions(4, 5)\n",
        "\n",
        "print(\"Rectangle Area:\", rect.area())\n"
      ],
      "metadata": {
        "colab": {
          "base_uri": "https://localhost:8080/"
        },
        "id": "pC1d_qRyYUN0",
        "outputId": "58f66410-99c3-45be-8f27-078c15f2390e"
      },
      "execution_count": null,
      "outputs": [
        {
          "output_type": "stream",
          "name": "stdout",
          "text": [
            "Rectangle Area: 20\n"
          ]
        }
      ]
    },
    {
      "cell_type": "markdown",
      "source": [
        "Q14.  Create a class Employee with a method calculate_salary() that computes the salary based on hours worked\n",
        "and hourly rate. Create a derived class Manager that adds a bonus to the salary."
      ],
      "metadata": {
        "id": "rbEaKIt2Ygrh"
      }
    },
    {
      "cell_type": "code",
      "source": [
        "class Employee:\n",
        "    def __init__(self, hours_worked, hourly_rate):\n",
        "        self.hours_worked = hours_worked\n",
        "        self.hourly_rate = hourly_rate\n",
        "\n",
        "    def calculate_salary(self):\n",
        "        return self.hours_worked * self.hourly_rate\n",
        "\n",
        "class Manager(Employee):\n",
        "    def __init__(self, hours_worked, hourly_rate, bonus):\n",
        "        super().__init__(hours_worked, hourly_rate)\n",
        "        self.bonus = bonus\n",
        "\n",
        "    def calculate_salary(self):\n",
        "        return super().calculate_salary() + self.bonus\n",
        "\n",
        "emp = Employee(40, 20)\n",
        "mgr = Manager(40, 50, 1000)\n",
        "\n",
        "print(\"Employee Salary:\", emp.calculate_salary())\n",
        "print(\"Manager Salary:\", mgr.calculate_salary())\n"
      ],
      "metadata": {
        "colab": {
          "base_uri": "https://localhost:8080/"
        },
        "id": "3SpC8DVOYoSJ",
        "outputId": "387c3d0d-1a17-4466-91a5-225fb3ded128"
      },
      "execution_count": null,
      "outputs": [
        {
          "output_type": "stream",
          "name": "stdout",
          "text": [
            "Employee Salary: 800\n",
            "Manager Salary: 3000\n"
          ]
        }
      ]
    },
    {
      "cell_type": "markdown",
      "source": [
        "Q15.  Create a class Product with attributes name, price, and quantity. Implement a method total_price() that\n",
        "calculates the total price of the product."
      ],
      "metadata": {
        "id": "belD_K2JY9pX"
      }
    },
    {
      "cell_type": "code",
      "source": [
        "class Product:\n",
        "    def __init__(self, name, price, quantity):\n",
        "        self.name = name\n",
        "        self.price = price\n",
        "        self.quantity = quantity\n",
        "\n",
        "    def total_price(self):\n",
        "        return self.price * self.quantity\n",
        "\n",
        "p1 = Product(\"Laptop\", 800, 2)\n",
        "p2 = Product(\"Phone\", 500, 3)\n",
        "\n",
        "print(f\"{p1.name} Total Price: ${p1.total_price()}\")\n",
        "print(f\"{p2.name} Total Price: ${p2.total_price()}\")\n"
      ],
      "metadata": {
        "colab": {
          "base_uri": "https://localhost:8080/"
        },
        "id": "VqngnqAnZBdP",
        "outputId": "0c3c6210-d2aa-43a1-891b-c492eb8a4e70"
      },
      "execution_count": null,
      "outputs": [
        {
          "output_type": "stream",
          "name": "stdout",
          "text": [
            "Laptop Total Price: $1600\n",
            "Phone Total Price: $1500\n"
          ]
        }
      ]
    },
    {
      "cell_type": "markdown",
      "source": [
        "Q16.  Create a class Animal with an abstract method sound(). Create two derived classes Cow and Sheep that\n",
        "implement the sound() method."
      ],
      "metadata": {
        "id": "nLmxEizNZOwF"
      }
    },
    {
      "cell_type": "code",
      "source": [
        "from abc import ABC, abstractmethod\n",
        "class Animal(ABC):\n",
        "    @abstractmethod\n",
        "    def sound(self):\n",
        "        pass\n",
        "\n",
        "class Cow(Animal):\n",
        "    def sound(self):\n",
        "        return \"Moo!\"\n",
        "\n",
        "class Sheep(Animal):\n",
        "    def sound(self):\n",
        "        return \"Baa!\"\n",
        "\n",
        "cow = Cow()\n",
        "sheep = Sheep()\n",
        "\n",
        "print(\"Cow:\", cow.sound())\n",
        "print(\"Sheep:\", sheep.sound())\n"
      ],
      "metadata": {
        "colab": {
          "base_uri": "https://localhost:8080/"
        },
        "id": "fPLrBB7tZS7M",
        "outputId": "788e909a-1805-4cd8-8d56-4a0f418948af"
      },
      "execution_count": null,
      "outputs": [
        {
          "output_type": "stream",
          "name": "stdout",
          "text": [
            "Cow: Moo!\n",
            "Sheep: Baa!\n"
          ]
        }
      ]
    },
    {
      "cell_type": "markdown",
      "source": [
        "Q17. Create a class Book with attributes title, author, and year_published. Add a method get_book_info() that\n",
        "returns a formatted string with the book's details."
      ],
      "metadata": {
        "id": "30-Nir7PZpxc"
      }
    },
    {
      "cell_type": "code",
      "source": [
        "class Book:\n",
        "    def __init__(self, title, author, year_published):\n",
        "        self.title = title\n",
        "        self.author = author\n",
        "        self.year_published = year_published\n",
        "\n",
        "    def get_book_info(self):\n",
        "        return f\"'{self.title}' by {self.author}, published in {self.year_published}.\"\n",
        "\n",
        "b1 = Book(\"1984\", \"George Orwell\", 1949)\n",
        "b2 = Book(\"To Kill a Mockingbird\", \"Harper Lee\", 1960)\n",
        "\n",
        "print(b1.get_book_info())\n",
        "print(b2.get_book_info())\n"
      ],
      "metadata": {
        "colab": {
          "base_uri": "https://localhost:8080/"
        },
        "id": "66iesWG_Ztq1",
        "outputId": "fe65f0d8-2dae-4c95-81d5-249915a2c451"
      },
      "execution_count": null,
      "outputs": [
        {
          "output_type": "stream",
          "name": "stdout",
          "text": [
            "'1984' by George Orwell, published in 1949.\n",
            "'To Kill a Mockingbird' by Harper Lee, published in 1960.\n"
          ]
        }
      ]
    },
    {
      "cell_type": "markdown",
      "source": [
        "Q18.  Create a class House with attributes address and price. Create a derived class Mansion that adds an\n",
        "attribute number_of_rooms."
      ],
      "metadata": {
        "id": "G1cxVWh2Z81s"
      }
    },
    {
      "cell_type": "code",
      "source": [
        "class House:\n",
        "    def __init__(self, address, price):\n",
        "        self.address = address\n",
        "        self.price = price\n",
        "\n",
        "    def get_details(self):\n",
        "        return f\"Address: {self.address}, Price: ${self.price}\"\n",
        "\n",
        "class Mansion(House):\n",
        "    def __init__(self, address, price, number_of_rooms):\n",
        "        super().__init__(address, price)\n",
        "        self.number_of_rooms = number_of_rooms\n",
        "\n",
        "    def get_details(self):\n",
        "        return f\"Address: {self.address}, Price: ${self.price}, Rooms: {self.number_of_rooms}\"\n",
        "\n",
        "h1 = House(\"123 Main St\", 250000)\n",
        "m1 = Mansion(\"Luxury Villa, Beverly Hills\", 5000000, 10)\n",
        "\n",
        "print(h1.get_details())\n",
        "print(m1.get_details())\n"
      ],
      "metadata": {
        "colab": {
          "base_uri": "https://localhost:8080/"
        },
        "id": "HY4XNDApaBIB",
        "outputId": "e25865d7-5e6d-42ac-96f3-f280ef305810"
      },
      "execution_count": null,
      "outputs": [
        {
          "output_type": "stream",
          "name": "stdout",
          "text": [
            "Address: 123 Main St, Price: $250000\n",
            "Address: Luxury Villa, Beverly Hills, Price: $5000000, Rooms: 10\n"
          ]
        }
      ]
    }
  ]
}